{
  "nbformat": 4,
  "nbformat_minor": 0,
  "metadata": {
    "colab": {
      "provenance": [],
      "authorship_tag": "ABX9TyN0jUk7TgqQSvgHz30fVJ86",
      "include_colab_link": true
    },
    "kernelspec": {
      "name": "python3",
      "display_name": "Python 3"
    },
    "language_info": {
      "name": "python"
    }
  },
  "cells": [
    {
      "cell_type": "markdown",
      "metadata": {
        "id": "view-in-github",
        "colab_type": "text"
      },
      "source": [
        "<a href=\"https://colab.research.google.com/github/karthickraja0809/jarvisAI/blob/main/linreg.ipynb\" target=\"_parent\"><img src=\"https://colab.research.google.com/assets/colab-badge.svg\" alt=\"Open In Colab\"/></a>"
      ]
    },
    {
      "cell_type": "code",
      "execution_count": 37,
      "metadata": {
        "colab": {
          "base_uri": "https://localhost:8080/"
        },
        "id": "ELJBZC0HZuqG",
        "outputId": "1d035f0d-cf69-4d39-bce5-73bdad70f2ee"
      },
      "outputs": [
        {
          "output_type": "stream",
          "name": "stdout",
          "text": [
            "date             0\n",
            "price            0\n",
            "bedrooms         0\n",
            "bathrooms        0\n",
            "sqft_living      0\n",
            "sqft_lot         0\n",
            "floors           0\n",
            "waterfront       0\n",
            "view             0\n",
            "condition        0\n",
            "sqft_above       0\n",
            "sqft_basement    0\n",
            "yr_built         0\n",
            "yr_renovated     0\n",
            "street           0\n",
            "city             0\n",
            "statezip         0\n",
            "country          0\n",
            "dtype: int64\n"
          ]
        }
      ],
      "source": [
        "import numpy as np\n",
        "import pandas as pd\n",
        "from sklearn.model_selection import train_test_split\n",
        "from sklearn.preprocessing import StandardScaler\n",
        "from sklearn.linear_model import Lasso, Ridge\n",
        "from sklearn.metrics import mean_squared_error, r2_score\n",
        "import matplotlib.pyplot as plt\n",
        "\n",
        "# Load data\n",
        "data = pd.read_csv('output.csv')\n",
        "\n",
        "# Check for missing values\n",
        "print(data.isnull().sum())\n",
        "\n",
        "# Handle date columns separately (example: convert to numerical features)\n",
        "# Assuming 'date' is the column with date-time strings\n",
        "data['date'] = pd.to_datetime(data['date'])  # Convert to datetime objects\n",
        "data['year'] = data['date'].dt.year\n",
        "data['month'] = data['date'].dt.month\n",
        "data['day'] = data['date'].dt.day\n",
        "data = data.drop('date', axis=1)  # Remove the original date column\n",
        "\n",
        "# Drop or fill missing values for numerical columns (example: filling with median)\n",
        "numeric_cols = data.select_dtypes(include=np.number).columns\n",
        "data[numeric_cols] = data[numeric_cols].fillna(data[numeric_cols].median())\n",
        "\n",
        "# Encode categorical variables (example: using one-hot encoding)\n",
        "data = pd.get_dummies(data, drop_first=True)\n",
        "\n",
        "# Define independent (X) and dependent (y) variables\n",
        "X = data.drop('price', axis=1)  # Assuming 'price' is the column to predict\n",
        "y = data['price']\n",
        "\n",
        "# Split the data into training and testing sets\n",
        "X_train, X_test, y_train, y_test = train_test_split(X, y, test_size=0.2, random_state=42)\n",
        "\n",
        "# Standardize the data (important for regularization)\n",
        "scaler = StandardScaler()\n",
        "X_train = scaler.fit_transform(X_train)\n",
        "X_test = scaler.transform(X_test)"
      ]
    },
    {
      "cell_type": "code",
      "source": [
        "class LinearRegression:\n",
        "    def __init__(self, learning_rate=0.01, iterations=1000):\n",
        "        self.learning_rate = learning_rate\n",
        "        self.iterations = iterations\n",
        "\n",
        "    def fit(self, X, y):\n",
        "        self.m, self.n = X.shape\n",
        "        self.theta = np.zeros(self.n)\n",
        "        self.bias = 0\n",
        "        self.X = X\n",
        "        self.y = y\n",
        "\n",
        "        for _ in range(self.iterations):\n",
        "            self.update_weights()\n",
        "\n",
        "    def update_weights(self):\n",
        "        y_pred = self.predict(self.X)\n",
        "        d_theta = -(2 * (self.X.T).dot(self.y - y_pred)) / self.m\n",
        "        d_bias = -2 * np.sum(self.y - y_pred) / self.m\n",
        "\n",
        "        self.theta -= self.learning_rate * d_theta\n",
        "        self.bias -= self.learning_rate * d_bias\n",
        "\n",
        "    def predict(self, X):\n",
        "        return X.dot(self.theta) + self.bias\n"
      ],
      "metadata": {
        "id": "mz3uL6Qehdze"
      },
      "execution_count": 38,
      "outputs": []
    },
    {
      "cell_type": "code",
      "source": [
        "class LinearRegressionWithRegularization(LinearRegression):\n",
        "    def __init__(self, learning_rate=0.01, iterations=1000, l1=0.0, l2=0.0):\n",
        "        super().__init__(learning_rate, iterations)\n",
        "        self.l1 = l1  # L1 regularization coefficient\n",
        "        self.l2 = l2  # L2 regularization coefficient\n",
        "\n",
        "    def update_weights(self):\n",
        "        y_pred = self.predict(self.X)\n",
        "        d_theta = -(2 * (self.X.T).dot(self.y - y_pred)) / self.m + self.l1 * np.sign(self.theta) + self.l2 * self.theta\n",
        "        d_bias = -2 * np.sum(self.y - y_pred) / self.m\n",
        "\n",
        "        self.theta -= self.learning_rate * d_theta\n",
        "        self.bias -= self.learning_rate * d_bias\n"
      ],
      "metadata": {
        "id": "uWu08hKbiaLJ"
      },
      "execution_count": 39,
      "outputs": []
    },
    {
      "cell_type": "code",
      "source": [
        "class LinearRegressionWithRegularization(LinearRegression):\n",
        "    def __init__(self, learning_rate=0.01, iterations=1000, l1=0.0, l2=0.0):\n",
        "        super().__init__(learning_rate, iterations)\n",
        "        self.l1 = l1  # L1 regularization coefficient\n",
        "        self.l2 = l2  # L2 regularization coefficient\n",
        "\n",
        "    def update_weights(self):\n",
        "        y_pred = self.predict(self.X)\n",
        "        d_theta = -(2 * (self.X.T).dot(self.y - y_pred)) / self.m + self.l1 * np.sign(self.theta) + self.l2 * self.theta\n",
        "        d_bias = -2 * np.sum(self.y - y_pred) / self.m\n",
        "\n",
        "        self.theta -= self.learning_rate * d_theta\n",
        "        self.bias -= self.learning_rate * d_bias\n"
      ],
      "metadata": {
        "id": "LwDWJakSieZA"
      },
      "execution_count": 40,
      "outputs": []
    },
    {
      "cell_type": "code",
      "source": [
        "# Visualize some features against the target\n",
        "plt.scatter(data['sqft_living'], data['price'])\n",
        "plt.xlabel('Square Foot Living Area')\n",
        "plt.ylabel('Price')\n",
        "plt.show()\n",
        "\n",
        "# Matrix operations\n",
        "X_matrix = np.dot(X_train.T, X_train)\n",
        "y_vector = np.dot(X_train.T, y_train)\n",
        "#theta_optimal = np.linalg.solve(X_matrix, y_vector)\n",
        "\n",
        "#print('Optimal theta:', theta_optimal)\n",
        "\n",
        "# Data manipulation with Pandas\n",
        "data['price_per_sqft'] = data['price'] / data['sqft_living']\n",
        "print(data.head())\n"
      ],
      "metadata": {
        "colab": {
          "base_uri": "https://localhost:8080/",
          "height": 968
        },
        "id": "-vAFfZasiiPy",
        "outputId": "5f32dc02-53c3-49aa-cfa4-db5d28b8d44d"
      },
      "execution_count": 43,
      "outputs": [
        {
          "output_type": "display_data",
          "data": {
            "text/plain": [
              "<Figure size 640x480 with 1 Axes>"
            ],
            "image/png": "[encoded data removed]"
          },
          "metadata": {}
        },
        {
          "output_type": "stream",
          "name": "stdout",
          "text": [
            "       price  bedrooms  bathrooms  sqft_living  sqft_lot  floors  waterfront  \\\n",
            "0   313000.0       3.0       1.50         1340      7912     1.5           0   \n",
            "1  2384000.0       5.0       2.50         3650      9050     2.0           0   \n",
            "2   342000.0       3.0       2.00         1930     11947     1.0           0   \n",
            "3   420000.0       3.0       2.25         2000      8030     1.0           0   \n",
            "4   550000.0       4.0       2.50         1940     10500     1.0           0   \n",
            "\n",
            "   view  condition  sqft_above  ...  statezip_WA 98166  statezip_WA 98168  \\\n",
            "0     0          3        1340  ...              False              False   \n",
            "1     4          5        3370  ...              False              False   \n",
            "2     0          4        1930  ...              False              False   \n",
            "3     0          4        1000  ...              False              False   \n",
            "4     0          4        1140  ...              False              False   \n",
            "\n",
            "   statezip_WA 98177  statezip_WA 98178  statezip_WA 98188  statezip_WA 98198  \\\n",
            "0              False              False              False              False   \n",
            "1              False              False              False              False   \n",
            "2              False              False              False              False   \n",
            "3              False              False              False              False   \n",
            "4              False              False              False              False   \n",
            "\n",
            "   statezip_WA 98199  statezip_WA 98288  statezip_WA 98354  price_per_sqft  \n",
            "0              False              False              False      233.582090  \n",
            "1              False              False              False      653.150685  \n",
            "2              False              False              False      177.202073  \n",
            "3              False              False              False      210.000000  \n",
            "4              False              False              False      283.505155  \n",
            "\n",
            "[5 rows x 4660 columns]\n"
          ]
        }
      ]
    },
    {
      "cell_type": "code",
      "source": [
        "\n",
        "from sklearn.metrics import mean_squared_error, r2_score\n",
        "import numpy as np\n",
        "\n",
        "\n",
        "# Instantiate the model\n",
        "model = LinearRegressionWithRegularization(learning_rate=0.01, iterations=1000, l1=0.1, l2=0.1)\n",
        "\n",
        "# Train the model\n",
        "model.fit(X_train, y_train)\n",
        "\n",
        "# Predict\n",
        "y_pred = model.predict(X_test)\n",
        "\n",
        "# Evaluate\n",
        "mse = mean_squared_error(y_test, y_pred)\n",
        "rmse = np.sqrt(mean_squared_error(y_test, y_pred)) # Calculate RMSE by taking square root of MSE\n",
        "r2 = r2_score(y_test, y_pred)\n",
        "\n",
        "print(f'MSE: {mse}')\n",
        "print(f'RMSE: {rmse}')\n",
        "print(f'R²: {r2}')"
      ],
      "metadata": {
        "colab": {
          "base_uri": "https://localhost:8080/"
        },
        "id": "GjXInGe7hoYC",
        "outputId": "1a8124c3-3e33-4be0-c910-4629804516c6"
      },
      "execution_count": 46,
      "outputs": [
        {
          "output_type": "stream",
          "name": "stdout",
          "text": [
            "MSE: 962066033802.321\n",
            "RMSE: 980849.6489280715\n",
            "R²: 0.05665589414156946\n"
          ]
        }
      ]
    }
  ]
}